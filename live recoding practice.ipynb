{
  "nbformat": 4,
  "nbformat_minor": 0,
  "metadata": {
    "colab": {
      "provenance": [],
      "authorship_tag": "ABX9TyPAkv+ptmbkw+yzty1Io3Z5",
      "include_colab_link": true
    },
    "kernelspec": {
      "name": "python3",
      "display_name": "Python 3"
    },
    "language_info": {
      "name": "python"
    }
  },
  "cells": [
    {
      "cell_type": "markdown",
      "metadata": {
        "id": "view-in-github",
        "colab_type": "text"
      },
      "source": [
        "<a href=\"https://colab.research.google.com/github/Dipakdhabe/ineuron/blob/main/live%20recoding%20practice.ipynb\" target=\"_parent\"><img src=\"https://colab.research.google.com/assets/colab-badge.svg\" alt=\"Open In Colab\"/></a>"
      ]
    },
    {
      "cell_type": "code",
      "execution_count": null,
      "metadata": {
        "colab": {
          "base_uri": "https://localhost:8080/"
        },
        "id": "8keWqsfzoiCP",
        "outputId": "fd6005e6-b735-445f-ff1e-0b358a150308"
      },
      "outputs": [
        {
          "output_type": "stream",
          "name": "stdout",
          "text": [
            "my name \n",
            "is 'Dipak'\n"
          ]
        }
      ],
      "source": [
        "print(\"\"\"my name \n",
        "is 'Dipak'\"\"\")"
      ]
    },
    {
      "cell_type": "code",
      "source": [
        "print(12*4)"
      ],
      "metadata": {
        "colab": {
          "base_uri": "https://localhost:8080/"
        },
        "id": "NRrg2hieomHu",
        "outputId": "db975224-a70d-46a1-a93e-c68a17a2fa42"
      },
      "execution_count": null,
      "outputs": [
        {
          "output_type": "stream",
          "name": "stdout",
          "text": [
            "48\n"
          ]
        }
      ]
    },
    {
      "cell_type": "code",
      "source": [],
      "metadata": {
        "id": "46oQQ7Y2qwO0"
      },
      "execution_count": null,
      "outputs": []
    },
    {
      "cell_type": "markdown",
      "source": [
        "# **Fundamental data types**"
      ],
      "metadata": {
        "id": "jSl76QLLrbir"
      }
    },
    {
      "cell_type": "markdown",
      "source": [
        "integers"
      ],
      "metadata": {
        "id": "5apO8JawsLsz"
      }
    },
    {
      "cell_type": "code",
      "source": [
        "a= 7"
      ],
      "metadata": {
        "id": "Ozfxk8O4sLVt"
      },
      "execution_count": null,
      "outputs": []
    },
    {
      "cell_type": "code",
      "source": [
        "type(a)"
      ],
      "metadata": {
        "colab": {
          "base_uri": "https://localhost:8080/"
        },
        "id": "kHP4aUI8tQM0",
        "outputId": "47974a57-4133-424e-e61d-372a8a936ebf"
      },
      "execution_count": null,
      "outputs": [
        {
          "output_type": "execute_result",
          "data": {
            "text/plain": [
              "int"
            ]
          },
          "metadata": {},
          "execution_count": 10
        }
      ]
    },
    {
      "cell_type": "code",
      "source": [
        "b = 7777\n",
        "type(b)"
      ],
      "metadata": {
        "colab": {
          "base_uri": "https://localhost:8080/"
        },
        "id": "BHBw9g55tTb7",
        "outputId": "262a95ac-bf6b-4e8b-8f36-62041eb6a708"
      },
      "execution_count": null,
      "outputs": [
        {
          "output_type": "execute_result",
          "data": {
            "text/plain": [
              "int"
            ]
          },
          "metadata": {},
          "execution_count": 11
        }
      ]
    },
    {
      "cell_type": "markdown",
      "source": [
        "## floats - numbers containing decimal numbers"
      ],
      "metadata": {
        "id": "hqKQPUpAtjIM"
      }
    },
    {
      "cell_type": "code",
      "source": [
        "pi = 3.14"
      ],
      "metadata": {
        "id": "zAJARDpYttsL"
      },
      "execution_count": null,
      "outputs": []
    },
    {
      "cell_type": "code",
      "source": [
        "type(pi)"
      ],
      "metadata": {
        "colab": {
          "base_uri": "https://localhost:8080/"
        },
        "id": "mAL8ex7JtyfV",
        "outputId": "292423f3-1d85-4c2f-f44e-1dbe0d39996a"
      },
      "execution_count": null,
      "outputs": [
        {
          "output_type": "execute_result",
          "data": {
            "text/plain": [
              "float"
            ]
          },
          "metadata": {},
          "execution_count": 13
        }
      ]
    },
    {
      "cell_type": "code",
      "source": [
        "x= 2.0\n",
        "type(x)"
      ],
      "metadata": {
        "colab": {
          "base_uri": "https://localhost:8080/"
        },
        "id": "DytOD95Bt0Yz",
        "outputId": "c1279045-f0db-43e1-efc6-1e7a05c073f0"
      },
      "execution_count": null,
      "outputs": [
        {
          "output_type": "execute_result",
          "data": {
            "text/plain": [
              "float"
            ]
          },
          "metadata": {},
          "execution_count": 14
        }
      ]
    },
    {
      "cell_type": "code",
      "source": [
        "pi = 22/7\n",
        "type(pi)"
      ],
      "metadata": {
        "colab": {
          "base_uri": "https://localhost:8080/"
        },
        "id": "lWcbzjHIt7nM",
        "outputId": "ebfbb49e-e818-4989-d2a9-b9325a41d675"
      },
      "execution_count": null,
      "outputs": [
        {
          "output_type": "execute_result",
          "data": {
            "text/plain": [
              "float"
            ]
          },
          "metadata": {},
          "execution_count": 15
        }
      ]
    },
    {
      "cell_type": "code",
      "source": [
        "pi"
      ],
      "metadata": {
        "colab": {
          "base_uri": "https://localhost:8080/"
        },
        "id": "9GGSBAmFuIG0",
        "outputId": "0ec0ea45-3a5b-4909-b82f-59ed857dd24f"
      },
      "execution_count": null,
      "outputs": [
        {
          "output_type": "execute_result",
          "data": {
            "text/plain": [
              "3.142857142857143"
            ]
          },
          "metadata": {},
          "execution_count": 16
        }
      ]
    },
    {
      "cell_type": "code",
      "source": [],
      "metadata": {
        "id": "ETLCOyNIuKDT"
      },
      "execution_count": null,
      "outputs": []
    },
    {
      "cell_type": "markdown",
      "source": [
        "# complex numbers"
      ],
      "metadata": {
        "id": "JxqChfXFuQa1"
      }
    },
    {
      "cell_type": "code",
      "source": [
        "a = 2+3j"
      ],
      "metadata": {
        "id": "hOk3G9s1uTS7"
      },
      "execution_count": null,
      "outputs": []
    },
    {
      "cell_type": "code",
      "source": [
        "type(a)"
      ],
      "metadata": {
        "colab": {
          "base_uri": "https://localhost:8080/"
        },
        "id": "O3-5c3rquVw0",
        "outputId": "c54b879a-2ed6-4006-8a00-a7965276b2fa"
      },
      "execution_count": null,
      "outputs": [
        {
          "output_type": "execute_result",
          "data": {
            "text/plain": [
              "complex"
            ]
          },
          "metadata": {},
          "execution_count": 18
        }
      ]
    },
    {
      "cell_type": "code",
      "source": [
        "a.real"
      ],
      "metadata": {
        "colab": {
          "base_uri": "https://localhost:8080/"
        },
        "id": "MPp9kS-VuXtB",
        "outputId": "1eb3f145-3f9d-4f68-8521-e127f7566184"
      },
      "execution_count": null,
      "outputs": [
        {
          "output_type": "execute_result",
          "data": {
            "text/plain": [
              "2.0"
            ]
          },
          "metadata": {},
          "execution_count": 19
        }
      ]
    },
    {
      "cell_type": "code",
      "source": [
        "a.imag"
      ],
      "metadata": {
        "colab": {
          "base_uri": "https://localhost:8080/"
        },
        "id": "LEC4UUEyvMED",
        "outputId": "75169ff2-3e0b-4f1b-9b5c-df4d8f0eb58e"
      },
      "execution_count": null,
      "outputs": [
        {
          "output_type": "execute_result",
          "data": {
            "text/plain": [
              "3.0"
            ]
          },
          "metadata": {},
          "execution_count": 22
        }
      ]
    },
    {
      "cell_type": "markdown",
      "source": [
        "# Dynamic type"
      ],
      "metadata": {
        "id": "zVILaqdbvgr5"
      }
    },
    {
      "cell_type": "code",
      "source": [
        "a= 22\n",
        "print(type(a))\n",
        "a= 22.2\n",
        "print(type(a))\n",
        "a= \"22.2\"\n",
        "print(type(a))"
      ],
      "metadata": {
        "colab": {
          "base_uri": "https://localhost:8080/"
        },
        "id": "KB62qm5JvkNL",
        "outputId": "2ec84c83-f317-4a40-ea61-2301f87376b1"
      },
      "execution_count": null,
      "outputs": [
        {
          "output_type": "stream",
          "name": "stdout",
          "text": [
            "<class 'int'>\n",
            "<class 'float'>\n",
            "<class 'str'>\n"
          ]
        }
      ]
    },
    {
      "cell_type": "code",
      "source": [],
      "metadata": {
        "id": "JBpyboT5vuqF"
      },
      "execution_count": null,
      "outputs": []
    },
    {
      "cell_type": "markdown",
      "source": [
        "# strong typing"
      ],
      "metadata": {
        "id": "oxR31AQkwiku"
      }
    },
    {
      "cell_type": "code",
      "source": [
        "\"day\"+ \"1\""
      ],
      "metadata": {
        "colab": {
          "base_uri": "https://localhost:8080/",
          "height": 35
        },
        "id": "74PN_WqQwsZz",
        "outputId": "21dd1922-b1b8-47b1-c00a-df1516099311"
      },
      "execution_count": null,
      "outputs": [
        {
          "output_type": "execute_result",
          "data": {
            "text/plain": [
              "'day1'"
            ],
            "application/vnd.google.colaboratory.intrinsic+json": {
              "type": "string"
            }
          },
          "metadata": {},
          "execution_count": 28
        }
      ]
    },
    {
      "cell_type": "code",
      "source": [
        "\"22\"+\"22\""
      ],
      "metadata": {
        "colab": {
          "base_uri": "https://localhost:8080/",
          "height": 35
        },
        "id": "2SVrtadZwxjb",
        "outputId": "1732914a-5529-417f-ac7a-bf3e01d38c03"
      },
      "execution_count": null,
      "outputs": [
        {
          "output_type": "execute_result",
          "data": {
            "text/plain": [
              "'2222'"
            ],
            "application/vnd.google.colaboratory.intrinsic+json": {
              "type": "string"
            }
          },
          "metadata": {},
          "execution_count": 29
        }
      ]
    },
    {
      "cell_type": "code",
      "source": [
        "\"Dipak \" + \"Dhabe\""
      ],
      "metadata": {
        "colab": {
          "base_uri": "https://localhost:8080/",
          "height": 35
        },
        "id": "xeuNAZzVw4qE",
        "outputId": "3d4ec4d4-9e6d-411b-994d-c14b3839323f"
      },
      "execution_count": null,
      "outputs": [
        {
          "output_type": "execute_result",
          "data": {
            "text/plain": [
              "'Dipak Dhabe'"
            ],
            "application/vnd.google.colaboratory.intrinsic+json": {
              "type": "string"
            }
          },
          "metadata": {},
          "execution_count": 32
        }
      ]
    },
    {
      "cell_type": "code",
      "source": [
        "a = 1 # int data type\n",
        "b = 1.2 # float data type\n",
        "c = \"dipak\" # string data type\n",
        "d = \"6+6J\"# complex data type # rarely used"
      ],
      "metadata": {
        "id": "0BE9yI_dw-JT"
      },
      "execution_count": null,
      "outputs": []
    },
    {
      "cell_type": "code",
      "source": [
        "print(\"welcome to class of python language\")"
      ],
      "metadata": {
        "colab": {
          "base_uri": "https://localhost:8080/"
        },
        "id": "Zkxf9eV4ygvq",
        "outputId": "be95ed6d-4cfb-4d33-df3f-cf5d1ac77b65"
      },
      "execution_count": null,
      "outputs": [
        {
          "output_type": "stream",
          "name": "stdout",
          "text": [
            "welcome to class of python language\n"
          ]
        }
      ]
    },
    {
      "cell_type": "code",
      "source": [
        "# "
      ],
      "metadata": {
        "id": "-mo99yd9uQx3"
      },
      "execution_count": null,
      "outputs": []
    },
    {
      "cell_type": "markdown",
      "source": [
        "# f. sting"
      ],
      "metadata": {
        "id": "5L9kN4_2uTnf"
      }
    },
    {
      "cell_type": "code",
      "source": [
        "language = \"java\"\n",
        "print(\"hi welcome to class of \" + language + \" language\") # allowed but rarely uses"
      ],
      "metadata": {
        "colab": {
          "base_uri": "https://localhost:8080/"
        },
        "id": "YO05sT6_yxoc",
        "outputId": "9e3bcccf-ff79-49c7-c4c3-058435d28a0e"
      },
      "execution_count": null,
      "outputs": [
        {
          "output_type": "stream",
          "name": "stdout",
          "text": [
            "hi welcome to class of java language\n"
          ]
        }
      ]
    },
    {
      "cell_type": "code",
      "source": [
        "language = \"Java\"\n",
        "print(f\"Hi welcome to class of {language} language\")  # CURRENT STANDARD APPROCH USED"
      ],
      "metadata": {
        "colab": {
          "base_uri": "https://localhost:8080/"
        },
        "id": "QyQDjro9zQ7T",
        "outputId": "d2e555c4-af2e-45ca-c464-dcbe8fbb2adc"
      },
      "execution_count": null,
      "outputs": [
        {
          "output_type": "stream",
          "name": "stdout",
          "text": [
            "Hi welcome to class of Java language\n"
          ]
        }
      ]
    },
    {
      "cell_type": "code",
      "source": [
        "language = \"Javascript\"\n",
        "print(\"Hi welcome to class of {} language\".format(language)) # old way"
      ],
      "metadata": {
        "colab": {
          "base_uri": "https://localhost:8080/"
        },
        "id": "RpOpsRflqCsJ",
        "outputId": "9e2927aa-8c35-493c-c580-891491d44fca"
      },
      "execution_count": 2,
      "outputs": [
        {
          "output_type": "stream",
          "name": "stdout",
          "text": [
            "Hi welcome to class of Javascript language\n"
          ]
        }
      ]
    },
    {
      "cell_type": "code",
      "source": [
        "num=\"first\"\n",
        "language=\"paython\"\n",
        "print(f\"Hi today is {num} class of {language} language\")"
      ],
      "metadata": {
        "id": "r5h8rpdt0XzL",
        "colab": {
          "base_uri": "https://localhost:8080/"
        },
        "outputId": "ca842303-0269-4b04-8db2-384fb36c91de"
      },
      "execution_count": 3,
      "outputs": [
        {
          "output_type": "stream",
          "name": "stdout",
          "text": [
            "Hi today is first class of paython language\n"
          ]
        }
      ]
    },
    {
      "cell_type": "code",
      "source": [
        "subject= \"english\"\n",
        "times= \"two\"\n",
        "print(f\"I learned {subject} {times} time\")"
      ],
      "metadata": {
        "colab": {
          "base_uri": "https://localhost:8080/"
        },
        "id": "8V99_AzqrP8K",
        "outputId": "b6c1676b-ff11-4148-d399-821d6e03dcc0"
      },
      "execution_count": 7,
      "outputs": [
        {
          "output_type": "stream",
          "name": "stdout",
          "text": [
            "I learned english two time\n"
          ]
        }
      ]
    },
    {
      "cell_type": "code",
      "source": [
        "name=\"Dipak\"\n",
        "sirname=\"Dhabe\"\n",
        "print(f\"My name is {name} {sirname}\")"
      ],
      "metadata": {
        "colab": {
          "base_uri": "https://localhost:8080/"
        },
        "id": "dBqKZrh9rYwk",
        "outputId": "9f29bfea-014b-49fd-aa9f-508c6e25e6fb"
      },
      "execution_count": 10,
      "outputs": [
        {
          "output_type": "stream",
          "name": "stdout",
          "text": [
            "My name is Dipak Dhabe\n"
          ]
        }
      ]
    },
    {
      "cell_type": "code",
      "source": [
        "name=\"Dipak\"\n",
        "sirname=\"Dhabe\"\n",
        "print(\"My name is {} , {} \".format(name, sirname))"
      ],
      "metadata": {
        "colab": {
          "base_uri": "https://localhost:8080/"
        },
        "id": "KM6_sIrzrY6Y",
        "outputId": "62174e6c-2d70-40ec-c0cf-32d7dad9a684"
      },
      "execution_count": 18,
      "outputs": [
        {
          "output_type": "stream",
          "name": "stdout",
          "text": [
            "My name is Dipak , Dhabe \n"
          ]
        }
      ]
    },
    {
      "cell_type": "code",
      "source": [
        "a = 24\n",
        "b = 25\n",
        "c = a + b\n",
        "print(f\"the result sum of two no a:{a} and b:{b} is = {c}\")"
      ],
      "metadata": {
        "colab": {
          "base_uri": "https://localhost:8080/"
        },
        "id": "H1jm7baCrY_t",
        "outputId": "dadd88d3-0ecb-4718-cd9e-f10525d9029a"
      },
      "execution_count": 20,
      "outputs": [
        {
          "output_type": "stream",
          "name": "stdout",
          "text": [
            "the result sum of two no a:24 and b:25 is = 49\n"
          ]
        }
      ]
    },
    {
      "cell_type": "code",
      "source": [],
      "metadata": {
        "id": "Gt8Asm7wrZCP"
      },
      "execution_count": null,
      "outputs": []
    },
    {
      "cell_type": "markdown",
      "source": [
        "# Boolean\n",
        " True False"
      ],
      "metadata": {
        "id": "eq0JawREu7i_"
      }
    },
    {
      "cell_type": "code",
      "source": [
        "one = True\n",
        "two = False\n",
        "\n",
        "print(type(one))\n",
        "print(type(two))\n"
      ],
      "metadata": {
        "colab": {
          "base_uri": "https://localhost:8080/"
        },
        "id": "3VUJNKV0rZE1",
        "outputId": "41b8666c-008e-4d5d-e9d0-8daa1d1e007c"
      },
      "execution_count": 22,
      "outputs": [
        {
          "output_type": "stream",
          "name": "stdout",
          "text": [
            "<class 'bool'>\n",
            "<class 'bool'>\n"
          ]
        }
      ]
    },
    {
      "cell_type": "code",
      "source": [
        "class_starts_at = 1500\n",
        "you_came_at = 1600\n",
        "you_came_at < class_starts_at"
      ],
      "metadata": {
        "colab": {
          "base_uri": "https://localhost:8080/"
        },
        "id": "RLmM-rBVrZHu",
        "outputId": "58bbb4f5-8016-4de5-b274-4be4db145e37"
      },
      "execution_count": 23,
      "outputs": [
        {
          "output_type": "execute_result",
          "data": {
            "text/plain": [
              "False"
            ]
          },
          "metadata": {},
          "execution_count": 23
        }
      ]
    },
    {
      "cell_type": "code",
      "source": [
        "class_start_at =1500\n",
        "you_came_at = 1600\n",
        "you_understoood_all_concepts = you_came_at < class_start_at\n",
        "print(f\"you understood everythings?: {you_understoood_all_concepts}\")"
      ],
      "metadata": {
        "colab": {
          "base_uri": "https://localhost:8080/"
        },
        "id": "KAx165IfrZU6",
        "outputId": "1ac8651c-dae9-490b-95c8-ff7d67691402"
      },
      "execution_count": 26,
      "outputs": [
        {
          "output_type": "stream",
          "name": "stdout",
          "text": [
            "you understood everythings?: False\n"
          ]
        }
      ]
    },
    {
      "cell_type": "code",
      "source": [
        "marks_required_for_passing = 70\n",
        "i_got_marks = 69\n",
        "are_you_pass = i_got_marks > marks_required_for_passing\n",
        "print(f\"you are pass?: {are_you_pass}\")"
      ],
      "metadata": {
        "colab": {
          "base_uri": "https://localhost:8080/"
        },
        "id": "husTLuvprZaJ",
        "outputId": "89ef77dc-8cdf-42a7-92ac-971b1db3f6c4"
      },
      "execution_count": 32,
      "outputs": [
        {
          "output_type": "stream",
          "name": "stdout",
          "text": [
            "you are pass?: False\n"
          ]
        }
      ]
    },
    {
      "cell_type": "code",
      "source": [
        "available_Sits_in_bus = 50\n",
        "total_passanger = 49\n",
        "possible_to_sits_all= available_Sits_in_bus > total_passanger\n",
        "print(f\"can all people sits?: {possible_to_sits_all}\")"
      ],
      "metadata": {
        "colab": {
          "base_uri": "https://localhost:8080/"
        },
        "id": "Z2mhQB1NxpYS",
        "outputId": "e7364fc3-1d60-4509-bdb0-4b4a4f5b066a"
      },
      "execution_count": 6,
      "outputs": [
        {
          "output_type": "stream",
          "name": "stdout",
          "text": [
            "can all people sits?: True\n"
          ]
        }
      ]
    },
    {
      "cell_type": "code",
      "source": [
        "total_cup_of_tea = 5\n",
        "total_number_of_people = 4\n",
        "can_all_people_take_tea = total_cup_of_tea > total_number_of_people\n",
        "print(f\"can_all_people_take_tea?: {can_all_people_take_tea}\")"
      ],
      "metadata": {
        "colab": {
          "base_uri": "https://localhost:8080/"
        },
        "id": "7psP6OdtP2IT",
        "outputId": "bf6c9006-e21a-417e-f65f-de0f259e4742"
      },
      "execution_count": 7,
      "outputs": [
        {
          "output_type": "stream",
          "name": "stdout",
          "text": [
            "can_all_people_take_tea?: True\n"
          ]
        }
      ]
    },
    {
      "cell_type": "code",
      "source": [
        "l = [1,3,4,6,9,6,7]"
      ],
      "metadata": {
        "id": "yb9U1GchQWY9"
      },
      "execution_count": 8,
      "outputs": []
    },
    {
      "cell_type": "code",
      "source": [
        "l[::-1]"
      ],
      "metadata": {
        "colab": {
          "base_uri": "https://localhost:8080/"
        },
        "id": "qYyt6ylHQWis",
        "outputId": "02dcc40a-1911-4ac8-bda7-3a60a56a868f"
      },
      "execution_count": 10,
      "outputs": [
        {
          "output_type": "execute_result",
          "data": {
            "text/plain": [
              "[7, 6, 9, 6, 4, 3, 1]"
            ]
          },
          "metadata": {},
          "execution_count": 10
        }
      ]
    },
    {
      "cell_type": "code",
      "source": [],
      "metadata": {
        "id": "zFDTyOR-QWni"
      },
      "execution_count": null,
      "outputs": []
    },
    {
      "cell_type": "code",
      "source": [],
      "metadata": {
        "id": "34-lfSmuQWuh"
      },
      "execution_count": null,
      "outputs": []
    }
  ]
}